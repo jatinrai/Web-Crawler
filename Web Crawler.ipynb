{
 "cells": [
  {
   "cell_type": "markdown",
   "metadata": {},
   "source": [
    "# Web Crawler\n",
    "\n",
    "This is a basic Web Crawler for Wikipedia articles. The Crawler will move to the first link it finds on the Wikipedia page (user input) and will keep on moving to a new page unless it finds a target url (user input) or returns to a page which it has encountered earlier. It will keep on outputting all the links to which it goes on during the whole process."
   ]
  },
  {
   "cell_type": "markdown",
   "metadata": {},
   "source": [
    "## Basic Overview For Our Code  "
   ]
  },
  {
   "cell_type": "code",
   "execution_count": 69,
   "metadata": {},
   "outputs": [],
   "source": [
    "# page = a random starting page\n",
    "# article_chain = []\n",
    "# while title of page isn't 'Philosophy' and we have not discovered a cycle:\n",
    "#     append page to article_chain\n",
    "#    download the page content\n",
    "#     find the first link in the content\n",
    "#     page = that link\n",
    "#     pause for a second"
   ]
  },
  {
   "cell_type": "markdown",
   "metadata": {},
   "source": [
    "## Code"
   ]
  },
  {
   "cell_type": "code",
   "execution_count": 70,
   "metadata": {},
   "outputs": [],
   "source": [
    "from bs4 import BeautifulSoup # https://www.crummy.com/software/BeautifulSoup/bs4/doc/\n",
    "import urllib\n",
    "import time\n",
    "import requests\n",
    "\n",
    "def continue_crawl(search_history, target_url, max_steps = 25):\n",
    "    if search_history[-1] == target_url:\n",
    "        print(\"\\n\"+\"We've found the target article!\")\n",
    "        print(search_history[-1])\n",
    "        return False\n",
    "    elif len(search_history) > max_steps:\n",
    "        print(\"\\n\"+\"The search has gone on suspiciously long, aborting search!\")\n",
    "        print(search_history[-1])\n",
    "        return False\n",
    "    elif search_history[-1] in search_history[:-1]:\n",
    "        print(\"\\n\"+\"We've arrived at an article we've already seen, aborting search!\")\n",
    "        print(search_history[-1])\n",
    "        return False\n",
    "    else:\n",
    "        return True\n",
    "    \n",
    "def find_first_link(url):\n",
    "    response = requests.get(url)\n",
    "    html = response.text\n",
    "    soup = BeautifulSoup(html,'html.parser')\n",
    "    content_div = soup.find(id=\"mw-content-text\").find(class_=\"mw-parser-output\")\n",
    "    article_link = None\n",
    "    for element in content_div.find_all(\"p\", recursive=False):\n",
    "        if element.find(\"a\", recursive=False):\n",
    "            article_link = element.find(\"a\", recursive=False).get('href')\n",
    "            break\n",
    "    if not article_link:\n",
    "        return\n",
    "    first_link = urllib.parse.urljoin('https://en.wikipedia.org/', article_link)\n",
    "    return first_link"
   ]
  },
  {
   "cell_type": "code",
   "execution_count": 71,
   "metadata": {},
   "outputs": [
    {
     "name": "stdout",
     "output_type": "stream",
     "text": [
      "https://en.wikipedia.org/wiki/Special:Random\n",
      "https://en.wikipedia.org/wiki/Murcia\n",
      "https://en.wikipedia.org/wiki/Spain\n",
      "https://en.wikipedia.org/wiki/Spanish_language\n",
      "https://en.wikipedia.org/wiki/Romance_languages\n",
      "https://en.wikipedia.org/wiki/Vulgar_Latin\n",
      "https://en.wikipedia.org/wiki/Standard_language\n",
      "https://en.wikipedia.org/wiki/Variety_(linguistics)\n",
      "https://en.wikipedia.org/wiki/Sociolinguistics\n",
      "https://en.wikipedia.org/wiki/Society\n",
      "https://en.wikipedia.org/wiki/Social_group\n",
      "https://en.wikipedia.org/wiki/Social_science\n",
      "https://en.wikipedia.org/wiki/Branches_of_science\n",
      "https://en.wikipedia.org/wiki/Science\n",
      "https://en.wikipedia.org/wiki/Latin\n",
      "https://en.wikipedia.org/wiki/Classical_language\n",
      "https://en.wikipedia.org/wiki/Language\n",
      "https://en.wikipedia.org/wiki/Grammar\n",
      "https://en.wikipedia.org/wiki/Linguistics\n",
      "\n",
      "We've arrived at an article we've already seen, aborting search!\n",
      "https://en.wikipedia.org/wiki/Science\n"
     ]
    }
   ],
   "source": [
    "article_chain = [\"https://en.wikipedia.org/wiki/Special:Random\"]\n",
    "target_url = \"https://en.wikipedia.org/wiki/Philosophy\"\n",
    "while continue_crawl(article_chain, target_url):\n",
    "    print(article_chain[-1])\n",
    "    first_link = find_first_link(article_chain[-1])\n",
    "    article_chain.append(first_link)\n",
    "    time.sleep(2)"
   ]
  },
  {
   "cell_type": "code",
   "execution_count": null,
   "metadata": {},
   "outputs": [],
   "source": []
  }
 ],
 "metadata": {
  "kernelspec": {
   "display_name": "Python 3",
   "language": "python",
   "name": "python3"
  },
  "language_info": {
   "codemirror_mode": {
    "name": "ipython",
    "version": 3
   },
   "file_extension": ".py",
   "mimetype": "text/x-python",
   "name": "python",
   "nbconvert_exporter": "python",
   "pygments_lexer": "ipython3",
   "version": "3.7.8"
  }
 },
 "nbformat": 4,
 "nbformat_minor": 4
}
